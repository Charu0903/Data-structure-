{
 "cells": [
  {
   "cell_type": "markdown",
   "id": "0c668ed1-6f76-464b-a587-7faa77dd1cbc",
   "metadata": {},
   "source": [
    "1. Discuss string slicing and provide examples"
   ]
  },
  {
   "cell_type": "markdown",
   "id": "c36e373d-7fd4-48a7-903d-5f01880294bc",
   "metadata": {},
   "source": [
    "String Slicing >>"
   ]
  },
  {
   "cell_type": "markdown",
   "id": "db00d215-6e1a-4c24-8f3a-0b71e25c20e7",
   "metadata": {},
   "source": [
    "String slicing refers to accessing a specific portion or a subset of a string with the original string remaining unaffected.\n",
    "\n",
    "You can use the indexes of string characters to create string slices as per the following syntax:\n",
    "\n",
    "       slice = <String Name>[StartIndex : StopIndex : Steps]\n",
    "1.The StartIndex represents the index from where the string slicing is supposed to begin. Its default value is 0, i.e. the string begins from index 0 if no StartIndex is specified.\n",
    "\n",
    "2.The StopIndex represents the last index up to which the string slicing will go on. Its default value is (length(string)-1) or the index of the last character in the string.\n",
    "\n",
    "3.Steps represent the number of steps. It is an optional parameter. steps, if defined, specifies the number of characters to jump over while counting from StartIndex to StopIndex. By default, it is 1.\n",
    "\n",
    "4.The string slices created, include characters falling between the indexes StartIndex and StopIndex, including StartIndex and not including StopIndex."
   ]
  },
  {
   "cell_type": "code",
   "execution_count": 1,
   "id": "ea867be2-a542-468c-9f7e-36d2891f317d",
   "metadata": {},
   "outputs": [
    {
     "name": "stdout",
     "output_type": "stream",
     "text": [
      "cdefg\n"
     ]
    }
   ],
   "source": [
    "# Examples\n",
    "s = \"abcdefghi\"\n",
    "print(s[2:7])"
   ]
  },
  {
   "cell_type": "code",
   "execution_count": 2,
   "id": "0723f095-23b5-479c-b4cb-85b38ec28cbe",
   "metadata": {},
   "outputs": [
    {
     "name": "stdout",
     "output_type": "stream",
     "text": [
      "cdefg\n"
     ]
    }
   ],
   "source": [
    "# Slice Using Negative Indices\n",
    "\n",
    "s = \"abcdefghi\"\n",
    "print(s[-7:-2])"
   ]
  },
  {
   "cell_type": "code",
   "execution_count": 4,
   "id": "74e84c02-d6d3-48df-8e79-d42d7ba171e0",
   "metadata": {},
   "outputs": [
    {
     "name": "stdout",
     "output_type": "stream",
     "text": [
      "CauBst\n"
     ]
    }
   ],
   "source": [
    "# Specify Step of the Slicing\n",
    "\n",
    "s = \"Charu Bisht\"\n",
    "print(s[0:12:2])"
   ]
  },
  {
   "cell_type": "code",
   "execution_count": 5,
   "id": "11104648-e29c-4901-a480-4fa94ac82c1c",
   "metadata": {},
   "outputs": [
    {
     "name": "stdout",
     "output_type": "stream",
     "text": [
      "tsbua\n"
     ]
    }
   ],
   "source": [
    "#  Specify  negative Step of the Slicing\n",
    "s = \"charu bisht\"\n",
    "print(s[12:1:-2])"
   ]
  },
  {
   "cell_type": "markdown",
   "id": "aa385108-09d4-4c5e-9aa9-217c8630721f",
   "metadata": {},
   "source": [
    "2. Explain the key features of lists in Python"
   ]
  },
  {
   "cell_type": "markdown",
   "id": "6310ece0-23d9-4835-aa41-101e7a7b25fc",
   "metadata": {},
   "source": [
    "-A list is a standard data type of Python that can store a sequence of values belonging to any type. The Lists are contained within square brackets ( [ ] ).\n",
    "\n",
    "-In Python programming, a list is created by placing all the items (elements) inside square brackets [ ], separated by commas.\n",
    "\n",
    "-It can have any number of items and they may be of different types (integer, float,string etc.).\n",
    "\n",
    "lists are mutable"
   ]
  },
  {
   "cell_type": "code",
   "execution_count": 6,
   "id": "bdeffb05-1d68-4b7b-b6a5-6789c7ecab68",
   "metadata": {},
   "outputs": [],
   "source": [
    "li = ['a', 1, 4.3, \"Zero\"]"
   ]
  },
  {
   "cell_type": "code",
   "execution_count": 7,
   "id": "1cf13f82-2fc2-4044-9083-5a9366cd2ff4",
   "metadata": {},
   "outputs": [
    {
     "data": {
      "text/plain": [
       "list"
      ]
     },
     "execution_count": 7,
     "metadata": {},
     "output_type": "execute_result"
    }
   ],
   "source": [
    "type(li)"
   ]
  },
  {
   "cell_type": "code",
   "execution_count": 8,
   "id": "d5b09706-4e8d-4f46-83a7-8d9416f2ed9a",
   "metadata": {},
   "outputs": [
    {
     "data": {
      "text/plain": [
       "['One', [8, 4, 6], ['Three']]"
      ]
     },
     "execution_count": 8,
     "metadata": {},
     "output_type": "execute_result"
    }
   ],
   "source": [
    "#  Nested List >>  A list can also have another list as an element. Such a list is called a Nested List.\n",
    "\n",
    "lis = [\"One\", [8, 4, 6], ['Three']] \n",
    "lis"
   ]
  },
  {
   "cell_type": "code",
   "execution_count": 9,
   "id": "56e9889d-bdae-4736-a9c8-da15d3adedb3",
   "metadata": {},
   "outputs": [
    {
     "name": "stdout",
     "output_type": "stream",
     "text": [
      "Mother\n",
      "Daughter\n",
      "23\n"
     ]
    }
   ],
   "source": [
    "# Accessing Elements in a List\n",
    "\n",
    "l1 = ['Mother', 'Sister', 'Daughter', 10, 23]\n",
    "print(l1[0]) \n",
    "print(l1[2]) \n",
    "print(l1[4])"
   ]
  },
  {
   "cell_type": "code",
   "execution_count": 10,
   "id": "c5c10701-0cb2-45d9-9fbb-8d0e11ccd0e1",
   "metadata": {},
   "outputs": [
    {
     "name": "stdout",
     "output_type": "stream",
     "text": [
      "23\n",
      "10\n",
      "Mother\n"
     ]
    }
   ],
   "source": [
    "# Negative indexing\n",
    "\n",
    "l1 = ['Mother', 'Sister', 'Daughter', 10, 23]\n",
    "print(l1[-1]) \n",
    "print(l1[-2]) \n",
    "print(l1[-5]) "
   ]
  },
  {
   "cell_type": "markdown",
   "id": "a6cbdd04-88cd-485b-9096-980d689c08da",
   "metadata": {},
   "source": [
    "Changing Elements of a List"
   ]
  },
  {
   "cell_type": "markdown",
   "id": "0fc4837c-85ff-476e-bf3b-f9733b254176",
   "metadata": {},
   "source": [
    "Once a list is created, we can even change the elements of the list. This is done by using the assignment operator (=) to change the value at a particular list index."
   ]
  },
  {
   "cell_type": "code",
   "execution_count": 13,
   "id": "a4e705b8-dbce-40b9-bdb2-8b39997ade7b",
   "metadata": {},
   "outputs": [
    {
     "name": "stdout",
     "output_type": "stream",
     "text": [
      "['Mother', 'Sister', 'Daughter', 12, 'Daughter']\n"
     ]
    }
   ],
   "source": [
    "# Examples\n",
    "\n",
    "l1 = ['Mother', 'Sister', 'Daughter', 10, 23]\n",
    "l1[-1] = \"Daughter\"\n",
    "l1[3] = 12 \n",
    "print(l1)"
   ]
  },
  {
   "cell_type": "markdown",
   "id": "44395ca0-823c-460d-a67f-ec7b1280784a",
   "metadata": {},
   "source": [
    "Concatenation of Lists"
   ]
  },
  {
   "cell_type": "markdown",
   "id": "e367e298-c292-41ff-8cfd-1abcfcb33e2a",
   "metadata": {},
   "source": [
    "Joining or concatenating two list in Python is very easy. The concatenation operator (+), can be used to join two lists. Consider the example given below:"
   ]
  },
  {
   "cell_type": "code",
   "execution_count": 14,
   "id": "d8c715b2-b1b4-4e3e-8391-29494ac262b9",
   "metadata": {},
   "outputs": [
    {
     "name": "stdout",
     "output_type": "stream",
     "text": [
      "[1, 2, 3, 3, 4, 5]\n"
     ]
    }
   ],
   "source": [
    "# Example\n",
    "\n",
    "l1= [1,2,3] #First List\n",
    "l2= [3,4,5] #Second List\n",
    "\n",
    "l3= l1+l2 #Concatenating both to get a new list\n",
    "print(l3)"
   ]
  },
  {
   "cell_type": "markdown",
   "id": "04030cbf-ef27-4a99-9718-0bcb6abb1816",
   "metadata": {},
   "source": [
    "Repeating/Replicating Lists"
   ]
  },
  {
   "cell_type": "markdown",
   "id": "9ed6557c-339d-4b56-8f62-61024cc31e2f",
   "metadata": {},
   "source": [
    "Like strings, you can use * operator to replicate a list specified number of times. Consider the example given below:"
   ]
  },
  {
   "cell_type": "code",
   "execution_count": 15,
   "id": "04d2f1cc-f250-4607-bc8e-760ae39633f3",
   "metadata": {},
   "outputs": [
    {
     "name": "stdout",
     "output_type": "stream",
     "text": [
      "[1, 2, 10, 23, 1, 2, 10, 23, 1, 2, 10, 23]\n"
     ]
    }
   ],
   "source": [
    "# Example\n",
    "\n",
    "li = [1, 2, 10, 23]\n",
    "print(li*3)"
   ]
  },
  {
   "cell_type": "markdown",
   "id": "e1aff020-d198-49ce-b16c-0b2ae5bc7247",
   "metadata": {},
   "source": [
    "List Slicing>>"
   ]
  },
  {
   "cell_type": "markdown",
   "id": "80965742-b5c2-48b7-b72b-bd820d564ba6",
   "metadata": {},
   "source": [
    "List slicing refers to accessing a specific portion or a subset of a list while the original list remains unaffected.\n",
    "\n",
    "Syntax:- slice= [StartIndex : StopIndex : Steps]\n",
    "\n",
    "The StartIndex represents the index from where the list slicing is supposed to begin. Its default value is 0, i.e. the list begins from index 0 if no StartIndex is specified.\n",
    "The StopIndex represents the last index up to which the list slicing will go on. Its default value is (length(list)-1) or the index of the last element in the list.\n",
    "steps represent the number of steps. It is an optional parameter. steps, if defined, specifies the number of elements to jump over while counting from StartIndex to StopIndex. By default, it is 1."
   ]
  },
  {
   "cell_type": "code",
   "execution_count": 16,
   "id": "490c8d34-fe09-4c1d-8c3b-46d2bb92d015",
   "metadata": {},
   "outputs": [
    {
     "name": "stdout",
     "output_type": "stream",
     "text": [
      "['c', 'e', 'g']\n"
     ]
    }
   ],
   "source": [
    "# Examples\n",
    "L = ['a', 'b', 'c', 'd', 'e', 'f', 'g', 'h', 'i']\n",
    "print(L[2:7:2])"
   ]
  },
  {
   "cell_type": "code",
   "execution_count": 17,
   "id": "6aab07d0-8746-45d5-9248-63dd4c1e37fe",
   "metadata": {},
   "outputs": [
    {
     "name": "stdout",
     "output_type": "stream",
     "text": [
      "['g', 'e', 'c']\n"
     ]
    }
   ],
   "source": [
    "# slicing using negative indexing\n",
    "\n",
    "L = ['a', 'b', 'c', 'd', 'e', 'f', 'g', 'h', 'i']\n",
    "print(L[6:1:-2])"
   ]
  },
  {
   "cell_type": "markdown",
   "id": "e59e4e37-33ce-4d73-8f6f-d49032cfbbef",
   "metadata": {},
   "source": [
    "Various Built-in Methods\n",
    "\n",
    "--\n",
    "\n",
    "append(): Adds an element to the end.\n",
    "extend(): Adds elements from an iterable to the end.\n",
    "insert(): Inserts an element at a specified position.\n",
    "remove(): Removes the first occurrence of a specified value.\n",
    "pop(): Removes and returns an element at a given position.\n",
    "sort(): Sorts the list in place.\n",
    "reverse(): Reverses the order of elements in the list\n"
   ]
  },
  {
   "cell_type": "code",
   "execution_count": 18,
   "id": "4c67ecf3-cff6-4306-a17e-11c5a579ebd7",
   "metadata": {},
   "outputs": [
    {
     "name": "stdout",
     "output_type": "stream",
     "text": [
      "['a', 'b', 'c', 'd', 'e', 'f', 'g', 'h', 'i', 'g']\n",
      "['a', 'b', 'c', 'd', 'e', 'f', 'g', 'h', 'i', 'g', 1, 2, 3, 4]\n",
      "['a', 'b', 6, 'c', 'd', 'e', 'f', 'g', 'h', 'i', 'g', 1, 2, 3, 4]\n",
      "['a', 6, 'c', 'd', 'e', 'f', 'g', 'h', 'i', 'g', 1, 2, 3, 4]\n",
      "['a', 6, 'c', 'e', 'f', 'g', 'h', 'i', 'g', 1, 2, 3, 4]\n",
      "[4, 3, 2, 1, 'g', 'i', 'h', 'g', 'f', 'e', 'c', 6, 'a']\n"
     ]
    }
   ],
   "source": [
    "# Examples \n",
    "l = ['a', 'b', 'c', 'd', 'e', 'f', 'g', 'h', 'i']\n",
    "l.append('g')\n",
    "print(l)\n",
    "\n",
    "l.extend([1,2,3,4])\n",
    "print(l)\n",
    "\n",
    "l.insert(2, 6)\n",
    "print(l)\n",
    "\n",
    "l.remove('b')\n",
    "print(l)\n",
    "\n",
    "l.pop(3)\n",
    "print(l)\n",
    "\n",
    "l.reverse()\n",
    "print(l)"
   ]
  },
  {
   "cell_type": "markdown",
   "id": "06fe8ea2-d239-4032-99af-3901e1284722",
   "metadata": {},
   "source": [
    "Using for loop and range()"
   ]
  },
  {
   "cell_type": "markdown",
   "id": "03a3f712-9c47-4bde-91fb-27fdbf6fce0d",
   "metadata": {},
   "source": [
    "# example\n",
    "list = [1, 3, 5, 7, 9]\n",
    "length = len(list) #Getting the length of the list\n",
    "for i in range(length): #Iterations from 0 to (length-1)\n",
    "    print(i)"
   ]
  },
  {
   "cell_type": "markdown",
   "id": "2f8abf88-42cd-4f6b-95c2-f31b289fd337",
   "metadata": {},
   "source": [
    "List Comprehensions"
   ]
  },
  {
   "cell_type": "markdown",
   "id": "1b69dbd4-7c3c-45d4-a7bc-1197f1578032",
   "metadata": {},
   "source": [
    "Definition: Python supports list comprehensions, which provide a concise way to create lists based on existing lists or other iterables.\n",
    "\n"
   ]
  },
  {
   "cell_type": "code",
   "execution_count": 23,
   "id": "19953741-d499-4ff0-8e33-b7fbca534889",
   "metadata": {},
   "outputs": [
    {
     "name": "stdout",
     "output_type": "stream",
     "text": [
      "[0, 1, 4, 9, 16, 25, 36, 49, 64, 81]\n"
     ]
    }
   ],
   "source": [
    "squares = [i**2 for i in range(10)]\n",
    "print(squares)"
   ]
  },
  {
   "cell_type": "markdown",
   "id": "9ceb9b10-4bc2-413e-acd2-45c2a85823fd",
   "metadata": {},
   "source": [
    "3.Describe how to access, modify, and delete elements in a list with examples"
   ]
  },
  {
   "cell_type": "markdown",
   "id": "0c82ab92-ec84-43b8-ba26-82f5af7ac2b5",
   "metadata": {},
   "source": [
    "Accessing Elements >>--\n",
    "\n",
    "You can access elements in a list using indexing. Python uses zero-based indexing, meaning the first element is at index 0, the second at index 1, and so on. You can also use negative indices to access elements from the end of the list, where -1 refers to the last element."
   ]
  },
  {
   "cell_type": "code",
   "execution_count": 25,
   "id": "a6de907f-b098-4639-a06e-52f2f31acaac",
   "metadata": {},
   "outputs": [
    {
     "name": "stdout",
     "output_type": "stream",
     "text": [
      "Charu\n",
      "pwskills\n",
      "50\n",
      "40\n"
     ]
    }
   ],
   "source": [
    "# examples\n",
    "\n",
    "\n",
    "my_list = [\"Charu\", \"pwskills\",\"sangeeta\", 40, 50]\n",
    "\n",
    "# Access the first element\n",
    "print(my_list[0]) \n",
    "\n",
    "# Access the third element\n",
    "print(my_list[1]) \n",
    "\n",
    "# Access the last element\n",
    "print(my_list[-1])\n",
    "\n",
    "# Access the second-to-last element\n",
    "print(my_list[-2])"
   ]
  },
  {
   "cell_type": "markdown",
   "id": "3f0a25df-b278-4588-adb4-cd84506325f4",
   "metadata": {},
   "source": [
    "Modifying Elements >>--\n",
    "\n",
    "You can modify elements by assigning a new value to a specific index. This operation changes the original list.\n",
    "\n"
   ]
  },
  {
   "cell_type": "code",
   "execution_count": 26,
   "id": "5fa1581e-26eb-4a58-b2fc-c9c6e38f805c",
   "metadata": {},
   "outputs": [
    {
     "name": "stdout",
     "output_type": "stream",
     "text": [
      "[10, 25, 30, 40, 50]\n",
      "[10, 25, 30, 40, 45]\n",
      "[10, 25, 33, 44, 45]\n"
     ]
    }
   ],
   "source": [
    "# Example\n",
    "\n",
    "my_list = [10, 20, 30, 40, 50]\n",
    "\n",
    "# Modify the second element\n",
    "my_list[1] = 25\n",
    "print(my_list) \n",
    "\n",
    "# Modify the last element\n",
    "my_list[-1] = 45\n",
    "print(my_list) \n",
    "\n",
    "# Modify a slice of the list\n",
    "my_list[2:4] = [33, 44]\n",
    "print(my_list)  "
   ]
  },
  {
   "cell_type": "markdown",
   "id": "a5bf6c57-aebc-4776-9e13-4f525b8aa70c",
   "metadata": {},
   "source": [
    "Deleting Elements >>--\n",
    "\n",
    "You can delete elements using various methods: del statement, pop() method, or remove() method.\n",
    "\n"
   ]
  },
  {
   "cell_type": "code",
   "execution_count": 27,
   "id": "84875d71-8902-48d2-b31c-697344cf9edb",
   "metadata": {},
   "outputs": [
    {
     "name": "stdout",
     "output_type": "stream",
     "text": [
      "['charu', 'pwskills', 40, 50]\n"
     ]
    }
   ],
   "source": [
    "# Delete method\n",
    "\n",
    "my_list = [\"charu\", \"pwskills\",\"palak\", 40, 50]\n",
    "\n",
    "# Delete the third element\n",
    "del my_list[2]\n",
    "print(my_list)"
   ]
  },
  {
   "cell_type": "code",
   "execution_count": 28,
   "id": "9895dc0b-3441-4bd2-a090-fea54f492e71",
   "metadata": {},
   "outputs": [
    {
     "name": "stdout",
     "output_type": "stream",
     "text": [
      "palak\n",
      "['Charu', 'pwskills', 40, 50]\n"
     ]
    }
   ],
   "source": [
    "# pop method\n",
    "\n",
    "my_list = [\"Charu\", \"pwskills\",\"palak\", 40, 50]\n",
    "\n",
    "# Pop the third element\n",
    "\n",
    "popped_element = my_list.pop(2)\n",
    "print(popped_element) \n",
    "print(my_list) "
   ]
  },
  {
   "cell_type": "code",
   "execution_count": 29,
   "id": "1f426c6b-d791-4a45-9796-f38517ad166b",
   "metadata": {},
   "outputs": [
    {
     "name": "stdout",
     "output_type": "stream",
     "text": [
      "['charu', 'pwskills', 'palak', 50, 40]\n"
     ]
    }
   ],
   "source": [
    "# remove method\n",
    "\n",
    "my_list = [\"charu\", \"pwskills\",\"palak\", 40, 50, 40]\n",
    "\n",
    "# Remove the first occurrence of value 40\n",
    "my_list.remove(40)\n",
    "print(my_list) "
   ]
  },
  {
   "cell_type": "markdown",
   "id": "64a942a5-dbaa-42a1-be5d-13060c112be3",
   "metadata": {},
   "source": [
    "4.Compare and contrast tuples and lists with examples"
   ]
  },
  {
   "cell_type": "markdown",
   "id": "8c6f057f-6310-49c6-9cba-b94137576ba8",
   "metadata": {},
   "source": [
    "Here's a concise comparison of tuples and lists in Python:\n",
    "\n",
    "Lists >>>--\n",
    "\n",
    "Syntax: Defined with square brackets []. Mutability: Mutable; you can change, add, or remove elements. Methods: Many methods like append(), remove(), sort(). Use Case: Ideal for collections that need to be modified.\n",
    "\n",
    "Tuples >>>---\n",
    "\n",
    "Immutable: Cannot be changed after creation. Syntax: () Performance: Faster for iteration and access. Use Case: Fixed collections, like coordinates. Hashable: Can be used as dictionary keys or set elements.\n",
    "\n"
   ]
  },
  {
   "cell_type": "code",
   "execution_count": 30,
   "id": "6a76f9de-255d-49f6-ad7f-2c9a63b042c5",
   "metadata": {},
   "outputs": [
    {
     "name": "stdout",
     "output_type": "stream",
     "text": [
      "Tasks: ['Buy groceries', 'Finish work presentation', 'Call mom']\n"
     ]
    }
   ],
   "source": [
    "# Examples >> list\n",
    "\n",
    "tasks = ['Buy groceries', 'Clean the house', 'Finish homework']\n",
    "\n",
    "# Adding a new task\n",
    "tasks.append('Call mom')\n",
    "\n",
    "# Removing a task\n",
    "tasks.remove('Clean the house')\n",
    "\n",
    "# Modifying an existing task\n",
    "tasks[1] = 'Finish work presentation'\n",
    "\n",
    "print(\"Tasks:\", tasks)"
   ]
  },
  {
   "cell_type": "code",
   "execution_count": 31,
   "id": "fd29d36a-4d0f-45ed-b490-7a0b1aba27c8",
   "metadata": {},
   "outputs": [
    {
     "name": "stdout",
     "output_type": "stream",
     "text": [
      "Latitude: 40.7128\n",
      "Longitude: -74.006\n"
     ]
    }
   ],
   "source": [
    "# Examples >> Tuple\n",
    "\n",
    "coordinates = (40.7128, -74.0060) \n",
    "\n",
    "# Accessing elements\n",
    "latitude = coordinates[0]\n",
    "longitude = coordinates[1]\n",
    "\n",
    "print(\"Latitude:\", latitude)\n",
    "print(\"Longitude:\", longitude)"
   ]
  },
  {
   "cell_type": "code",
   "execution_count": 33,
   "id": "88126789-3c60-4fa1-9b89-2b1f4224d2d4",
   "metadata": {},
   "outputs": [
    {
     "ename": "TypeError",
     "evalue": "'tuple' object does not support item assignment",
     "output_type": "error",
     "traceback": [
      "\u001b[0;31m---------------------------------------------------------------------------\u001b[0m",
      "\u001b[0;31mTypeError\u001b[0m                                 Traceback (most recent call last)",
      "Cell \u001b[0;32mIn[33], line 1\u001b[0m\n\u001b[0;32m----> 1\u001b[0m \u001b[43mcoordinates\u001b[49m\u001b[43m[\u001b[49m\u001b[38;5;241;43m0\u001b[39;49m\u001b[43m]\u001b[49m \u001b[38;5;241m=\u001b[39m \u001b[38;5;241m41.0000\u001b[39m \u001b[38;5;66;03m# 'tuple' object does not support item assignment\u001b[39;00m\n",
      "\u001b[0;31mTypeError\u001b[0m: 'tuple' object does not support item assignment"
     ]
    }
   ],
   "source": [
    "coordinates[0] = 41.0000 # 'tuple' object does not support item assignment"
   ]
  },
  {
   "cell_type": "markdown",
   "id": "2438cf42-11cf-412e-9520-0d2db360529c",
   "metadata": {},
   "source": [
    "5. Describe the key features of sets and provide examples of their use"
   ]
  },
  {
   "cell_type": "raw",
   "id": "c461d66b-68aa-49bb-87e9-e6b300c085cd",
   "metadata": {},
   "source": [
    "Mathematically a set is a collection of items (not in any particular order). A Python set is similar to this mathematical definition with below additional conditions.\n",
    "\n",
    "The elements in a set cannot be repeated i.e. an element can occur only once.\n",
    "The elements in the set are immutable(cannot be modified) but the set as a whole is mutable.\n",
    "There is no index attached to any element in a python set. So they do not support any indexing or slicing operation.\n",
    "Set Operations >>--\n",
    "\n",
    "The sets in python are typically used for mathematical operations like union, intersection, difference, and complement, etc. We can create a set, access its elements, and carry out these mathematical operations."
   ]
  },
  {
   "cell_type": "code",
   "execution_count": 34,
   "id": "c59cdfa5-cc0e-410a-8095-ec49a64a2574",
   "metadata": {},
   "outputs": [
    {
     "name": "stdout",
     "output_type": "stream",
     "text": [
      "{'Tue', 'Mon', 'Wed', 'Sun', 'Sat', 'Thu', 'Fri'}\n",
      "{'Feb', 'Mar', 'Jan'}\n",
      "{17, 21, 22}\n"
     ]
    }
   ],
   "source": [
    "# Creating sets\n",
    "Days={\"Mon\",\"Tue\",\"Wed\",\"Thu\",\"Fri\",\"Sat\",\"Sun\"}\n",
    "      \n",
    "Months={\"Jan\",\"Feb\",\"Mar\"}\n",
    "Dates={21,22,17}\n",
    "print(Days)\n",
    "print(Months)\n",
    "print(Dates)"
   ]
  },
  {
   "cell_type": "raw",
   "id": "ee9d7060-bb67-4e4b-b25e-66d57bfba327",
   "metadata": {},
   "source": [
    "Note: The order of the elements has changed in the above result.\n",
    "\n",
    "Accessing Values in a Set >>--\n",
    "\n",
    "We cannot access individual values in a set as there is no specific order of elements in a set.\n",
    "We can only access all the elements together as shown. We can also get a list of individual elements by looping through the set.\n"
   ]
  },
  {
   "cell_type": "code",
   "execution_count": 36,
   "id": "4c4abe79-6a45-44af-a2c6-8c5e65cf88a7",
   "metadata": {},
   "outputs": [
    {
     "name": "stdout",
     "output_type": "stream",
     "text": [
      "Tue\n",
      "Mon\n",
      "Wed\n",
      "Sun\n",
      "Sat\n",
      "Thu\n",
      "Fri\n"
     ]
    }
   ],
   "source": [
    "Days={\"Mon\",\"Tue\",\"Wed\",\"Thu\",\"Fri\",\"Sat\",\"Sun\"}\n",
    "for d in Days:\n",
    "    print(d)"
   ]
  },
  {
   "cell_type": "code",
   "execution_count": 37,
   "id": "13e1fec0-082c-48f6-b5cc-8565e7b76186",
   "metadata": {},
   "outputs": [],
   "source": [
    "#set operations\n",
    "#Union: combines elements from two sets excluding duplicates\n",
    "#Intersection: only common elements btw sets\n",
    "#difference: return the elements that is present in first set and not in second\n",
    "#symmetric difference: returns elements that are present in either of sets but not in both"
   ]
  },
  {
   "cell_type": "code",
   "execution_count": 38,
   "id": "b050e6a0-e727-4c75-9408-089c70b4ccb1",
   "metadata": {},
   "outputs": [],
   "source": [
    "s1 = {\"hiking\", \"reading\", \"coding\"}\n",
    "s2 = {\"coding\", \"photography\", \"travelling\"}"
   ]
  },
  {
   "cell_type": "code",
   "execution_count": 39,
   "id": "6901fce3-8013-460b-970e-5eb7e19ef088",
   "metadata": {},
   "outputs": [
    {
     "data": {
      "text/plain": [
       "{'coding', 'hiking', 'reading'}"
      ]
     },
     "execution_count": 39,
     "metadata": {},
     "output_type": "execute_result"
    }
   ],
   "source": [
    "s1"
   ]
  },
  {
   "cell_type": "code",
   "execution_count": 40,
   "id": "3c8a6437-8a26-4d46-8d59-3055c55d12ca",
   "metadata": {},
   "outputs": [
    {
     "data": {
      "text/plain": [
       "{'coding', 'photography', 'travelling'}"
      ]
     },
     "execution_count": 40,
     "metadata": {},
     "output_type": "execute_result"
    }
   ],
   "source": [
    "s2"
   ]
  },
  {
   "cell_type": "code",
   "execution_count": 41,
   "id": "8448a479-b2b1-4d78-ac23-a517e1a13726",
   "metadata": {},
   "outputs": [
    {
     "data": {
      "text/plain": [
       "{'coding', 'hiking', 'photography', 'reading', 'travelling'}"
      ]
     },
     "execution_count": 41,
     "metadata": {},
     "output_type": "execute_result"
    }
   ],
   "source": [
    "#union>> combine all the elements\n",
    "s1 | s2"
   ]
  },
  {
   "cell_type": "code",
   "execution_count": 42,
   "id": "62686e45-602a-4c12-9a3e-a89f8c6c5515",
   "metadata": {},
   "outputs": [
    {
     "data": {
      "text/plain": [
       "{'coding'}"
      ]
     },
     "execution_count": 42,
     "metadata": {},
     "output_type": "execute_result"
    }
   ],
   "source": [
    "#intersection >> common elements\n",
    "s1 & s2"
   ]
  },
  {
   "cell_type": "code",
   "execution_count": 43,
   "id": "d6210827-7e0e-4e48-bbf0-7cd8e6da1dee",
   "metadata": {},
   "outputs": [
    {
     "data": {
      "text/plain": [
       "{'hiking', 'reading'}"
      ]
     },
     "execution_count": 43,
     "metadata": {},
     "output_type": "execute_result"
    }
   ],
   "source": [
    "#difference\n",
    "s1-s2"
   ]
  },
  {
   "cell_type": "code",
   "execution_count": 44,
   "id": "dcabddfc-db84-45ff-8663-7be225823c06",
   "metadata": {},
   "outputs": [
    {
     "data": {
      "text/plain": [
       "{'hiking', 'photography', 'reading', 'travelling'}"
      ]
     },
     "execution_count": 44,
     "metadata": {},
     "output_type": "execute_result"
    }
   ],
   "source": [
    "#symmetric difference\n",
    "s1 ^ s2"
   ]
  },
  {
   "cell_type": "code",
   "execution_count": 45,
   "id": "bbd797f1-b76d-427b-ad76-a9708367742d",
   "metadata": {},
   "outputs": [],
   "source": [
    "#frozen sets>>immutable version of set, cannot be added or removed any new element\n",
    "my_fs = frozenset([1, 2, 2, 2, 3, 3, 4, 5])"
   ]
  },
  {
   "cell_type": "code",
   "execution_count": 46,
   "id": "08c4d79b-8b39-49b3-a47d-e296a6c2699e",
   "metadata": {},
   "outputs": [
    {
     "data": {
      "text/plain": [
       "frozenset({1, 2, 3, 4, 5})"
      ]
     },
     "execution_count": 46,
     "metadata": {},
     "output_type": "execute_result"
    }
   ],
   "source": [
    "my_fs"
   ]
  },
  {
   "cell_type": "code",
   "execution_count": 47,
   "id": "aadf49e3-4ec0-4229-9ba1-0b293668b020",
   "metadata": {},
   "outputs": [
    {
     "data": {
      "text/plain": [
       "frozenset"
      ]
     },
     "execution_count": 47,
     "metadata": {},
     "output_type": "execute_result"
    }
   ],
   "source": [
    "type(my_fs)"
   ]
  },
  {
   "cell_type": "code",
   "execution_count": 51,
   "id": "3db6c848-7eca-4d42-a95d-ab318730b0e9",
   "metadata": {},
   "outputs": [
    {
     "ename": "NameError",
     "evalue": "name 'my' is not defined",
     "output_type": "error",
     "traceback": [
      "\u001b[0;31m---------------------------------------------------------------------------\u001b[0m",
      "\u001b[0;31mNameError\u001b[0m                                 Traceback (most recent call last)",
      "Cell \u001b[0;32mIn[51], line 1\u001b[0m\n\u001b[0;32m----> 1\u001b[0m \u001b[43mmy\u001b[49m\u001b[38;5;241m-\u001b[39mfs\u001b[38;5;241m.\u001b[39madd(\u001b[38;5;241m6\u001b[39m)\n",
      "\u001b[0;31mNameError\u001b[0m: name 'my' is not defined"
     ]
    }
   ],
   "source": [
    "my-fs.add(6)"
   ]
  },
  {
   "cell_type": "code",
   "execution_count": 52,
   "id": "1cb2c712-74c3-4cfa-a0df-69b1939d7ebc",
   "metadata": {},
   "outputs": [
    {
     "ename": "AttributeError",
     "evalue": "'frozenset' object has no attribute 'pop'",
     "output_type": "error",
     "traceback": [
      "\u001b[0;31m---------------------------------------------------------------------------\u001b[0m",
      "\u001b[0;31mAttributeError\u001b[0m                            Traceback (most recent call last)",
      "Cell \u001b[0;32mIn[52], line 1\u001b[0m\n\u001b[0;32m----> 1\u001b[0m \u001b[43mmy_fs\u001b[49m\u001b[38;5;241;43m.\u001b[39;49m\u001b[43mpop\u001b[49m()\n",
      "\u001b[0;31mAttributeError\u001b[0m: 'frozenset' object has no attribute 'pop'"
     ]
    }
   ],
   "source": [
    "my_fs.pop()"
   ]
  },
  {
   "cell_type": "markdown",
   "id": "df3d1622-5855-4cd2-ab36-7bcbf35bf9c8",
   "metadata": {},
   "source": [
    "6.Discuss the use cases of tuples and sets in Python programming"
   ]
  },
  {
   "cell_type": "raw",
   "id": "29c451e8-3684-4188-8b55-c6de7ea0ec8a",
   "metadata": {},
   "source": [
    "use case of tuple with example\n",
    "Tuples >>--\n",
    "\n",
    "Immutable: Fixed-size, cannot be changed after creation.\n",
    "\n",
    "Use Cases >>--\n",
    "\n",
    "Fixed Data: Storing unchanging data like coordinates.\n",
    "Multiple Return Values: Functions returning multiple values as a tuple.\n",
    "Dictionary Keys: Can be used as dictionary keys if all elements are hashable.\n",
    "Data Grouping: Grouping related data.\n"
   ]
  },
  {
   "cell_type": "code",
   "execution_count": 53,
   "id": "985dda1f-10ad-42d7-a449-209fefc8d708",
   "metadata": {},
   "outputs": [
    {
     "name": "stdout",
     "output_type": "stream",
     "text": [
      "Latitude: 40.7128, Longitude: -74.006\n"
     ]
    }
   ],
   "source": [
    "# Example\n",
    "\n",
    "# Tuple for storing geographic coordinates\n",
    "coordinates = (40.7128, -74.0060) \n",
    "\n",
    "# Accessing elements\n",
    "latitude = coordinates[0]\n",
    "longitude = coordinates[1]\n",
    "\n",
    "print(f\"Latitude: {latitude}, Longitude: {longitude}\")"
   ]
  },
  {
   "cell_type": "raw",
   "id": "0b8cee21-ecb8-4990-b00b-9804cfb522ac",
   "metadata": {},
   "source": [
    "Sets >>--\n",
    "\n",
    "Mutable: Can add or remove elements.\n",
    "Unordered: No duplicates, elements are unique.\n",
    "Use Cases >>--\n",
    "\n",
    "Removing Duplicates: Convert lists to sets to eliminate duplicates.\n",
    "Membership Testing: Efficiently check if an element is in the set.\n",
    "Set Operations: Perform union, intersection, and difference operations.\n",
    "Unique Collections: Track unique items"
   ]
  },
  {
   "cell_type": "code",
   "execution_count": 54,
   "id": "c55520c1-7c4d-410e-a5f2-881eab6589c9",
   "metadata": {},
   "outputs": [
    {
     "name": "stdout",
     "output_type": "stream",
     "text": [
      "Unique User IDs: {101, 102, 103, 104, 105}\n"
     ]
    }
   ],
   "source": [
    "# Example\n",
    "\n",
    "# List with duplicate user IDs\n",
    "user_ids = [101, 102, 103, 102, 104, 105, 103]\n",
    "\n",
    "# Convert to set to remove duplicates\n",
    "unique_user_ids = set(user_ids)\n",
    "\n",
    "print(\"Unique User IDs:\", unique_user_ids)"
   ]
  },
  {
   "cell_type": "markdown",
   "id": "3209e44a-8300-497b-83be-5aec72682958",
   "metadata": {},
   "source": [
    "7.Describe how to add, modify and delete items in a dictionary with examples"
   ]
  },
  {
   "cell_type": "raw",
   "id": "d4dad0ad-f609-4e52-8c72-0760a2a837de",
   "metadata": {},
   "source": [
    "Adding Elements In a Dictionary >.--\n",
    "Since a dictionary is mutable, we can add or delete entries from the dictionary. This is particularly useful if we have to maintain a dynamic data structure. To assign a value corresponding to a given key (This includes over-writing the value present in the key or adding a new key-value pair), we can use the square bracket operators to simply assign the value to a key."
   ]
  },
  {
   "cell_type": "code",
   "execution_count": 55,
   "id": "912562c6-b1c2-4510-8789-460d50489298",
   "metadata": {},
   "outputs": [
    {
     "name": "stdout",
     "output_type": "stream",
     "text": [
      "{2: 1, 3: 4, 4: 3}\n"
     ]
    }
   ],
   "source": [
    "# Example\n",
    "bar= {2:1,3:2,4:3}\n",
    "bar[3]=4\n",
    "# This operation updates the value of the key 3 to a new value i.e. 4.\n",
    "print(bar)"
   ]
  },
  {
   "cell_type": "code",
   "execution_count": 57,
   "id": "76efb737-7748-4792-87aa-b0b35bb418d0",
   "metadata": {},
   "outputs": [
    {
     "name": "stdout",
     "output_type": "stream",
     "text": [
      "{2: 1, 3: 4, 4: 3, 'man': 'boy', 'women': 'girl'}\n"
     ]
    }
   ],
   "source": [
    "bar[\"women\"]=\"girl\" # add a key-value pair\n",
    "print(bar)"
   ]
  },
  {
   "cell_type": "code",
   "execution_count": 58,
   "id": "d5bad1f3-1850-4be1-8e49-bbe854c035d4",
   "metadata": {},
   "outputs": [
    {
     "name": "stdout",
     "output_type": "stream",
     "text": [
      "{1: 2, 2: 3, 3: 4, 7: 2, 10: 3, 6: 4}\n"
     ]
    }
   ],
   "source": [
    "# Adding or concatenation of two dictionaries:\n",
    "\n",
    "a= {1:2,2:3,3:4}\n",
    "b= {7:2,10:3,6:4}\n",
    "a.update(b)\n",
    "print(a)"
   ]
  },
  {
   "cell_type": "markdown",
   "id": "a12ae702-37e6-4448-a20e-1c8fd8992cbe",
   "metadata": {},
   "source": [
    "Modifying element in dictionaries"
   ]
  },
  {
   "cell_type": "markdown",
   "id": "85c0bfce-aa27-4e1f-9b8f-ee7cb05367ff",
   "metadata": {},
   "source": [
    "You can modify the values associated with a specific key in a dictionary"
   ]
  },
  {
   "cell_type": "code",
   "execution_count": 60,
   "id": "20870715-06c1-4407-a2cd-b3dd6783365a",
   "metadata": {},
   "outputs": [
    {
     "name": "stdout",
     "output_type": "stream",
     "text": [
      "{'charu': {'age': 23, 'city': 'New Delhi'}, 'Rehan': {'age': 25, 'city': 'Noida'}, 'charlie': {'age': 35, 'city': 'Chicago', 'occupation': 'Engineer'}}\n"
     ]
    }
   ],
   "source": [
    "# Example\n",
    "\n",
    "profiles = {\n",
    "    \"charu\": {\"age\": 22, \"city\": \"New Delhi\"},\n",
    "    \"Rehan\": {\"age\": 25, \"city\": \"Noida\"},\n",
    "    \"charlie\": {\"age\": 35, \"city\": \"Chicago\"}\n",
    "}\n",
    "\n",
    "# Updating the age of 'Nadeem'\n",
    "profiles[\"charu\"][\"age\"] = 23\n",
    "\n",
    "# Adding a new key-value pair to 'charlie'\n",
    "profiles[\"charlie\"][\"occupation\"] = \"Engineer\"\n",
    "\n",
    "print(profiles)"
   ]
  },
  {
   "cell_type": "markdown",
   "id": "5b507e74-7861-4b9f-af0f-d334378e0121",
   "metadata": {},
   "source": [
    "Deleting item in dictionary"
   ]
  },
  {
   "cell_type": "markdown",
   "id": "66aa23e2-bab3-42ec-b5eb-3bf71eae1cc0",
   "metadata": {},
   "source": [
    "Deleting an entry:"
   ]
  },
  {
   "cell_type": "markdown",
   "id": "701cbc31-d45e-422d-b042-4a91314ea75e",
   "metadata": {},
   "source": [
    "In order to delete an entry corresponding to any key in a dictionary , we can simple pop the key from the dictionary. The method used here is .pop() . This method removes the key-value pair corresponding to any particular key and then returns the value of the removed key-value pair"
   ]
  },
  {
   "cell_type": "code",
   "execution_count": 61,
   "id": "a29ccf75-8b6f-4e8d-968a-f7ec61e7973b",
   "metadata": {},
   "outputs": [
    {
     "data": {
      "text/plain": [
       "(3, 23, 3)"
      ]
     },
     "execution_count": 61,
     "metadata": {},
     "output_type": "execute_result"
    }
   ],
   "source": [
    "# Example\n",
    "\n",
    "c={1:2,2:(3,23,3),3:4}\n",
    "c.pop(2)"
   ]
  },
  {
   "cell_type": "code",
   "execution_count": 62,
   "id": "0d9bf320-de6b-4edc-85a9-0f22a72c0e64",
   "metadata": {},
   "outputs": [
    {
     "name": "stdout",
     "output_type": "stream",
     "text": [
      "{1: 2, 3: 4}\n"
     ]
    }
   ],
   "source": [
    "print(c)"
   ]
  },
  {
   "cell_type": "markdown",
   "id": "eb601d2a-2aeb-40f5-9649-f5a78d636478",
   "metadata": {},
   "source": [
    "Deleting all the entries from the dictionary:"
   ]
  },
  {
   "cell_type": "markdown",
   "id": "c679f799-6cd8-4667-afae-0960c22f70b3",
   "metadata": {},
   "source": [
    "If we want to clear all the key-value pairs from the given dictionary and thus convert it into an empty dictionary we can use the .clear() method"
   ]
  },
  {
   "cell_type": "code",
   "execution_count": 63,
   "id": "d793ac69-cc0c-4692-baa4-cc53a049ba87",
   "metadata": {},
   "outputs": [
    {
     "name": "stdout",
     "output_type": "stream",
     "text": [
      "{}\n"
     ]
    }
   ],
   "source": [
    "# example\n",
    "\n",
    "c={1:2,2:(3,23,3),3:4}\n",
    "c.clear()\n",
    "print(c)"
   ]
  },
  {
   "cell_type": "markdown",
   "id": "ac9559ff-182c-4fc3-8e6b-33869b3ba432",
   "metadata": {},
   "source": [
    "8. Discuss the importance of dictionary keys being immutable and provide examples"
   ]
  },
  {
   "cell_type": "markdown",
   "id": "67c51a69-fb2b-4ef0-93fc-6f327e0a12de",
   "metadata": {},
   "source": [
    "Importance of Immutable Keys >>--"
   ]
  },
  {
   "cell_type": "raw",
   "id": "603312a5-6346-4ee0-9996-dbd1f18be851",
   "metadata": {},
   "source": [
    "1.Hashability: Dictionary keys are used to compute hash values, which allows Python to quickly locate values. An immutable key guarantees that its hash value remains constant.\n",
    "\n",
    "2.Data Integrity: Immutable keys ensure that once a key-value pair is added to the dictionary, the key cannot be altered, preventing potential data corruption or inconsistencie"
   ]
  },
  {
   "cell_type": "code",
   "execution_count": 64,
   "id": "e10dfdf0-4e06-4b89-8f10-5be8f17f42dc",
   "metadata": {},
   "outputs": [
    {
     "name": "stdout",
     "output_type": "stream",
     "text": [
      "New York City\n",
      "{(40.7128, -74.006): 'New York City', (34.0522, -118.2437): 'Los Angeles', (41.8781, -87.6298): 'Chicago', (37.7749, -122.4194): 'San Francisco'}\n"
     ]
    }
   ],
   "source": [
    "# Using Immutable Keys\n",
    "\n",
    "# Dictionary with tuples as keys\n",
    "locations = {\n",
    "    (40.7128, -74.0060): \"New York City\",\n",
    "    (34.0522, -118.2437): \"Los Angeles\",\n",
    "    (41.8781, -87.6298): \"Chicago\"\n",
    "}\n",
    "\n",
    "# Accessing a value using an immutable key (tuple)\n",
    "print(locations[(40.7128, -74.0060)]) \n",
    "\n",
    "# Adding a new entry\n",
    "locations[(37.7749, -122.4194)] = \"San Francisco\"\n",
    "print(locations)"
   ]
  },
  {
   "cell_type": "code",
   "execution_count": 65,
   "id": "211b5783-4852-412b-a5dd-fb8379aa2187",
   "metadata": {},
   "outputs": [
    {
     "name": "stdout",
     "output_type": "stream",
     "text": [
      "Error: unhashable type: 'list'\n"
     ]
    }
   ],
   "source": [
    "# using mutable key\n",
    "\n",
    "# Attempting to use a list as a dictionary key (will raise an error)\n",
    "try:\n",
    "    my_dict = {[1, 2, 3]: \"value\"}  # Lists are mutable, so this will fail\n",
    "except TypeError as e:\n",
    "    print(\"Error:\", e)  "
   ]
  },
  {
   "cell_type": "markdown",
   "id": "14fa4503-3781-4775-9e8d-679bc2f95557",
   "metadata": {},
   "source": [
    "Lists are mutable, so you cannot use them as dictionary keys. Trying to do so results in a TypeError."
   ]
  },
  {
   "cell_type": "code",
   "execution_count": null,
   "id": "7bd0a0c1-b593-415f-9141-73791699401c",
   "metadata": {},
   "outputs": [],
   "source": []
  }
 ],
 "metadata": {
  "kernelspec": {
   "display_name": "Python 3 (ipykernel)",
   "language": "python",
   "name": "python3"
  },
  "language_info": {
   "codemirror_mode": {
    "name": "ipython",
    "version": 3
   },
   "file_extension": ".py",
   "mimetype": "text/x-python",
   "name": "python",
   "nbconvert_exporter": "python",
   "pygments_lexer": "ipython3",
   "version": "3.10.8"
  }
 },
 "nbformat": 4,
 "nbformat_minor": 5
}
